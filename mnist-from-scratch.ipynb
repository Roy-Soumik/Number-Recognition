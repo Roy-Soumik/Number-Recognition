{
 "cells": [
  {
   "cell_type": "code",
   "execution_count": 1,
   "metadata": {
    "_cell_guid": "b1076dfc-b9ad-4769-8c92-a6c4dae69d19",
    "_uuid": "8f2839f25d086af736a60e9eeb907d3b93b6e0e5"
   },
   "outputs": [],
   "source": [
    "import numpy as np # linear algebra\n",
    "import pandas as pd # data processing, CSV file I/O (e.g. pd.read_csv)\n",
    "from matplotlib import pyplot as plt"
   ]
  },
  {
   "cell_type": "code",
   "execution_count": 2,
   "metadata": {},
   "outputs": [],
   "source": [
    "data = pd.read_csv('train.csv/train.csv')"
   ]
  },
  {
   "cell_type": "code",
   "execution_count": 3,
   "metadata": {},
   "outputs": [],
   "source": [
    "data = np.array(data)\n",
    "m, n = data.shape\n",
    "np.random.shuffle(data) # shuffle before splitting into dev and training sets\n",
    "\n",
    "data_dev = data[0:1000].T\n",
    "Y_dev = data_dev[0]\n",
    "X_dev = data_dev[1:n]\n",
    "X_dev = X_dev / 255.\n",
    "\n",
    "data_train = data[1000:m].T\n",
    "Y_train = data_train[0]\n",
    "X_train = data_train[1:n]\n",
    "X_train = X_train / 255.\n",
    "_,m_train = X_train.shape"
   ]
  },
  {
   "cell_type": "code",
   "execution_count": 4,
   "metadata": {},
   "outputs": [],
   "source": [
    "def init_params():\n",
    "    W1 = np.random.rand(10, 784) - 0.5\n",
    "    b1 = np.random.rand(10, 1) - 0.5\n",
    "    W2 = np.random.rand(10, 10) - 0.5\n",
    "    b2 = np.random.rand(10, 1) - 0.5\n",
    "    return W1, b1, W2, b2\n",
    "\n",
    "def ReLU(Z):\n",
    "    return np.maximum(Z, 0)\n",
    "\n",
    "def softmax(Z):\n",
    "    A = np.exp(Z) / sum(np.exp(Z))\n",
    "    return A\n",
    "    \n",
    "def forward_prop(W1, b1, W2, b2, X):\n",
    "    Z1 = W1.dot(X) + b1\n",
    "    A1 = ReLU(Z1)\n",
    "    Z2 = W2.dot(A1) + b2\n",
    "    A2 = softmax(Z2)\n",
    "    return Z1, A1, Z2, A2\n",
    "\n",
    "def ReLU_deriv(Z):\n",
    "    return Z > 0\n",
    "\n",
    "def one_hot(Y):\n",
    "    one_hot_Y = np.zeros((Y.size, Y.max() + 1))\n",
    "    one_hot_Y[np.arange(Y.size), Y] = 1\n",
    "    one_hot_Y = one_hot_Y.T\n",
    "    return one_hot_Y\n",
    "\n",
    "def backward_prop(Z1, A1, Z2, A2, W1, W2, X, Y):\n",
    "    one_hot_Y = one_hot(Y)\n",
    "    dZ2 = A2 - one_hot_Y\n",
    "    dW2 = 1 / m * dZ2.dot(A1.T)\n",
    "    db2 = 1 / m * np.sum(dZ2)\n",
    "    dZ1 = W2.T.dot(dZ2) * ReLU_deriv(Z1)\n",
    "    dW1 = 1 / m * dZ1.dot(X.T)\n",
    "    db1 = 1 / m * np.sum(dZ1)\n",
    "    return dW1, db1, dW2, db2\n",
    "\n",
    "def update_params(W1, b1, W2, b2, dW1, db1, dW2, db2, alpha):\n",
    "    W1 = W1 - alpha * dW1\n",
    "    b1 = b1 - alpha * db1    \n",
    "    W2 = W2 - alpha * dW2  \n",
    "    b2 = b2 - alpha * db2    \n",
    "    return W1, b1, W2, b2"
   ]
  },
  {
   "cell_type": "code",
   "execution_count": 5,
   "metadata": {},
   "outputs": [],
   "source": [
    "def get_predictions(A2):\n",
    "    return np.argmax(A2, 0)\n",
    "\n",
    "def get_accuracy(predictions, Y):\n",
    "    print(predictions, Y)\n",
    "    return np.sum(predictions == Y) / Y.size\n",
    "\n",
    "def gradient_descent(X, Y, alpha, iterations):\n",
    "    W1, b1, W2, b2 = init_params()\n",
    "    for i in range(iterations):\n",
    "        Z1, A1, Z2, A2 = forward_prop(W1, b1, W2, b2, X)\n",
    "        dW1, db1, dW2, db2 = backward_prop(Z1, A1, Z2, A2, W1, W2, X, Y)\n",
    "        W1, b1, W2, b2 = update_params(W1, b1, W2, b2, dW1, db1, dW2, db2, alpha)\n",
    "        if i % 10 == 0:\n",
    "            print(\"Iteration: \", i)\n",
    "            predictions = get_predictions(A2)\n",
    "            print(\"Accuracy: \", get_accuracy(predictions, Y))\n",
    "    return W1, b1, W2, b2"
   ]
  },
  {
   "cell_type": "code",
   "execution_count": 6,
   "metadata": {},
   "outputs": [
    {
     "name": "stdout",
     "output_type": "stream",
     "text": [
      "Iteration:  0\n",
      "[0 0 0 ... 0 9 0] [8 2 0 ... 5 1 3]\n",
      "Accuracy:  0.11570731707317074\n",
      "Iteration:  10\n",
      "[5 0 0 ... 7 1 2] [8 2 0 ... 5 1 3]\n",
      "Accuracy:  0.2696829268292683\n",
      "Iteration:  20\n",
      "[3 2 0 ... 7 1 3] [8 2 0 ... 5 1 3]\n",
      "Accuracy:  0.34848780487804876\n",
      "Iteration:  30\n",
      "[3 2 0 ... 7 1 3] [8 2 0 ... 5 1 3]\n",
      "Accuracy:  0.4047317073170732\n",
      "Iteration:  40\n",
      "[5 2 0 ... 7 1 3] [8 2 0 ... 5 1 3]\n",
      "Accuracy:  0.4529756097560976\n",
      "Iteration:  50\n",
      "[5 2 0 ... 7 1 3] [8 2 0 ... 5 1 3]\n",
      "Accuracy:  0.4990487804878049\n",
      "Iteration:  60\n",
      "[5 2 0 ... 7 1 3] [8 2 0 ... 5 1 3]\n",
      "Accuracy:  0.5393658536585366\n",
      "Iteration:  70\n",
      "[5 2 0 ... 7 1 3] [8 2 0 ... 5 1 3]\n",
      "Accuracy:  0.5709756097560975\n",
      "Iteration:  80\n",
      "[5 2 0 ... 7 1 3] [8 2 0 ... 5 1 3]\n",
      "Accuracy:  0.5989024390243902\n",
      "Iteration:  90\n",
      "[5 2 0 ... 7 1 3] [8 2 0 ... 5 1 3]\n",
      "Accuracy:  0.6231463414634146\n",
      "Iteration:  100\n",
      "[5 2 0 ... 7 1 3] [8 2 0 ... 5 1 3]\n",
      "Accuracy:  0.6430975609756098\n",
      "Iteration:  110\n",
      "[5 2 0 ... 7 1 3] [8 2 0 ... 5 1 3]\n",
      "Accuracy:  0.6612439024390244\n",
      "Iteration:  120\n",
      "[5 2 0 ... 7 1 3] [8 2 0 ... 5 1 3]\n",
      "Accuracy:  0.6758048780487805\n",
      "Iteration:  130\n",
      "[5 2 0 ... 7 1 3] [8 2 0 ... 5 1 3]\n",
      "Accuracy:  0.6888292682926829\n",
      "Iteration:  140\n",
      "[5 2 0 ... 7 1 3] [8 2 0 ... 5 1 3]\n",
      "Accuracy:  0.700170731707317\n",
      "Iteration:  150\n",
      "[5 2 0 ... 7 1 3] [8 2 0 ... 5 1 3]\n",
      "Accuracy:  0.7109268292682926\n",
      "Iteration:  160\n",
      "[5 2 0 ... 7 1 3] [8 2 0 ... 5 1 3]\n",
      "Accuracy:  0.7200975609756097\n",
      "Iteration:  170\n",
      "[8 2 0 ... 7 1 3] [8 2 0 ... 5 1 3]\n",
      "Accuracy:  0.7295121951219512\n",
      "Iteration:  180\n",
      "[8 2 0 ... 7 1 3] [8 2 0 ... 5 1 3]\n",
      "Accuracy:  0.737390243902439\n",
      "Iteration:  190\n",
      "[8 2 0 ... 4 1 3] [8 2 0 ... 5 1 3]\n",
      "Accuracy:  0.7450975609756098\n",
      "Iteration:  200\n",
      "[8 2 0 ... 4 1 3] [8 2 0 ... 5 1 3]\n",
      "Accuracy:  0.752609756097561\n",
      "Iteration:  210\n",
      "[8 2 0 ... 4 1 3] [8 2 0 ... 5 1 3]\n",
      "Accuracy:  0.7594634146341463\n",
      "Iteration:  220\n",
      "[8 2 0 ... 4 1 3] [8 2 0 ... 5 1 3]\n",
      "Accuracy:  0.7658292682926829\n",
      "Iteration:  230\n",
      "[8 2 0 ... 4 1 3] [8 2 0 ... 5 1 3]\n",
      "Accuracy:  0.7724146341463415\n",
      "Iteration:  240\n",
      "[8 2 0 ... 4 1 3] [8 2 0 ... 5 1 3]\n",
      "Accuracy:  0.7779512195121951\n",
      "Iteration:  250\n",
      "[8 2 0 ... 4 1 3] [8 2 0 ... 5 1 3]\n",
      "Accuracy:  0.7832926829268293\n",
      "Iteration:  260\n",
      "[8 2 0 ... 4 1 3] [8 2 0 ... 5 1 3]\n",
      "Accuracy:  0.7888048780487805\n",
      "Iteration:  270\n",
      "[8 2 0 ... 4 1 3] [8 2 0 ... 5 1 3]\n",
      "Accuracy:  0.7931951219512196\n",
      "Iteration:  280\n",
      "[8 2 0 ... 4 1 3] [8 2 0 ... 5 1 3]\n",
      "Accuracy:  0.7973658536585366\n",
      "Iteration:  290\n",
      "[8 2 0 ... 4 1 3] [8 2 0 ... 5 1 3]\n",
      "Accuracy:  0.801219512195122\n",
      "Iteration:  300\n",
      "[8 2 0 ... 4 1 3] [8 2 0 ... 5 1 3]\n",
      "Accuracy:  0.8051707317073171\n",
      "Iteration:  310\n",
      "[8 2 0 ... 4 1 3] [8 2 0 ... 5 1 3]\n",
      "Accuracy:  0.8096585365853659\n",
      "Iteration:  320\n",
      "[8 2 0 ... 4 1 3] [8 2 0 ... 5 1 3]\n",
      "Accuracy:  0.8133170731707317\n",
      "Iteration:  330\n",
      "[8 2 0 ... 5 1 3] [8 2 0 ... 5 1 3]\n",
      "Accuracy:  0.8165121951219512\n",
      "Iteration:  340\n",
      "[8 2 0 ... 5 1 3] [8 2 0 ... 5 1 3]\n",
      "Accuracy:  0.8197073170731707\n",
      "Iteration:  350\n",
      "[8 2 0 ... 5 1 3] [8 2 0 ... 5 1 3]\n",
      "Accuracy:  0.8227317073170731\n",
      "Iteration:  360\n",
      "[8 2 0 ... 5 1 3] [8 2 0 ... 5 1 3]\n",
      "Accuracy:  0.8251463414634146\n",
      "Iteration:  370\n",
      "[8 2 0 ... 5 1 3] [8 2 0 ... 5 1 3]\n",
      "Accuracy:  0.8276097560975609\n",
      "Iteration:  380\n",
      "[8 2 0 ... 5 1 3] [8 2 0 ... 5 1 3]\n",
      "Accuracy:  0.8298536585365853\n",
      "Iteration:  390\n",
      "[8 2 0 ... 5 1 3] [8 2 0 ... 5 1 3]\n",
      "Accuracy:  0.8324146341463414\n",
      "Iteration:  400\n",
      "[8 2 0 ... 5 1 3] [8 2 0 ... 5 1 3]\n",
      "Accuracy:  0.8352195121951219\n",
      "Iteration:  410\n",
      "[8 2 0 ... 5 1 3] [8 2 0 ... 5 1 3]\n",
      "Accuracy:  0.8371219512195122\n",
      "Iteration:  420\n",
      "[8 2 0 ... 5 1 3] [8 2 0 ... 5 1 3]\n",
      "Accuracy:  0.839\n",
      "Iteration:  430\n",
      "[8 2 0 ... 5 1 3] [8 2 0 ... 5 1 3]\n",
      "Accuracy:  0.8408536585365853\n",
      "Iteration:  440\n",
      "[8 2 0 ... 5 1 3] [8 2 0 ... 5 1 3]\n",
      "Accuracy:  0.8427560975609756\n",
      "Iteration:  450\n",
      "[8 2 0 ... 5 1 3] [8 2 0 ... 5 1 3]\n",
      "Accuracy:  0.8447560975609756\n",
      "Iteration:  460\n",
      "[8 2 0 ... 5 1 3] [8 2 0 ... 5 1 3]\n",
      "Accuracy:  0.8462682926829268\n",
      "Iteration:  470\n",
      "[8 2 0 ... 5 1 3] [8 2 0 ... 5 1 3]\n",
      "Accuracy:  0.8475609756097561\n",
      "Iteration:  480\n",
      "[8 2 0 ... 5 1 3] [8 2 0 ... 5 1 3]\n",
      "Accuracy:  0.8488780487804878\n",
      "Iteration:  490\n",
      "[8 2 0 ... 5 1 3] [8 2 0 ... 5 1 3]\n",
      "Accuracy:  0.8500731707317073\n"
     ]
    }
   ],
   "source": [
    "W1, b1, W2, b2 = gradient_descent(X_train, Y_train, 0.10, 500)"
   ]
  },
  {
   "cell_type": "code",
   "execution_count": 7,
   "metadata": {},
   "outputs": [],
   "source": [
    "def make_predictions(X, W1, b1, W2, b2):\n",
    "    _, _, _, A2 = forward_prop(W1, b1, W2, b2, X)\n",
    "    predictions = get_predictions(A2)\n",
    "    return predictions\n",
    "\n",
    "def test_prediction(index, W1, b1, W2, b2):\n",
    "    current_image = X_train[:, index, None]\n",
    "    prediction = make_predictions(X_train[:, index, None], W1, b1, W2, b2)\n",
    "    label = Y_train[index]\n",
    "    print(\"Prediction: \", prediction)\n",
    "    print(\"Label: \", label)\n",
    "    \n",
    "    current_image = current_image.reshape((28, 28)) * 255\n",
    "    plt.gray()\n",
    "    plt.imshow(current_image, interpolation='nearest')\n",
    "    plt.show()"
   ]
  },
  {
   "cell_type": "code",
   "execution_count": 8,
   "metadata": {},
   "outputs": [
    {
     "name": "stdout",
     "output_type": "stream",
     "text": [
      "Prediction:  [1]\n",
      "Label:  1\n"
     ]
    },
    {
     "data": {
      "image/png": "[encoded data removed]",
      "text/plain": [
       "<Figure size 640x480 with 1 Axes>"
      ]
     },
     "metadata": {},
     "output_type": "display_data"
    }
   ],
   "source": [
    "test_prediction(8, W1, b1, W2, b2)"
   ]
  },
  {
   "cell_type": "markdown",
   "metadata": {},
   "source": [
    "##### test_prediction(1, W1, b1, W2, b2)"
   ]
  },
  {
   "cell_type": "code",
   "execution_count": 9,
   "metadata": {},
   "outputs": [
    {
     "name": "stdout",
     "output_type": "stream",
     "text": [
      "[5 3 4 9 3 1 0 1 3 6 7 3 8 1 9 0 6 5 6 6 0 0 9 8 5 8 4 2 6 5 9 3 9 0 7 7 3\n",
      " 8 0 0 7 0 2 2 5 1 6 3 2 0 8 7 0 3 5 8 8 2 2 8 9 7 8 0 4 6 9 4 4 9 1 7 1 2\n",
      " 4 7 9 6 7 9 6 5 0 5 9 3 1 2 0 2 8 5 9 6 3 4 7 6 2 4 8 9 0 0 1 0 0 4 4 5 3\n",
      " 0 4 6 2 8 9 3 7 8 6 7 1 4 7 3 7 2 5 2 0 3 1 6 0 6 5 1 0 5 2 0 6 4 2 8 5 1\n",
      " 7 4 3 4 2 2 5 2 9 1 5 1 2 4 7 5 3 9 0 7 4 8 1 7 3 8 4 1 0 0 6 4 0 8 6 6 0\n",
      " 3 5 9 9 1 1 3 0 6 9 7 4 2 9 3 2 4 8 8 9 2 9 9 1 4 4 6 5 9 2 4 9 2 2 1 2 4\n",
      " 3 6 3 9 1 6 8 0 2 1 5 5 7 5 7 0 2 5 0 4 2 4 4 2 5 6 6 0 1 6 7 9 2 8 9 0 2\n",
      " 9 5 5 9 3 5 9 4 8 7 3 1 7 9 2 5 7 3 1 5 1 9 6 0 1 9 2 4 4 4 4 1 9 3 7 4 3\n",
      " 6 8 7 9 0 1 4 1 0 2 2 7 2 3 2 6 3 4 5 6 8 6 7 5 9 6 7 6 0 3 7 1 5 0 4 2 1\n",
      " 1 4 1 6 0 6 3 8 1 3 4 4 8 4 4 3 1 3 5 3 1 4 1 9 8 5 3 2 0 9 3 4 0 7 0 6 6\n",
      " 1 6 0 5 5 3 9 9 9 1 2 7 4 6 9 6 9 0 7 7 6 4 4 1 5 4 0 6 0 4 2 9 9 0 6 1 6\n",
      " 8 2 7 8 3 4 3 9 2 5 2 5 6 3 0 3 1 4 6 3 3 3 3 0 4 2 0 2 1 6 7 6 3 7 1 9 8\n",
      " 9 8 5 8 9 1 6 8 3 4 8 7 0 6 6 1 8 9 6 2 0 9 1 9 7 2 2 6 9 6 9 3 3 1 4 2 7\n",
      " 4 0 1 0 8 1 7 8 0 9 5 7 3 3 4 2 3 6 4 2 3 9 4 9 0 9 1 2 5 7 3 0 7 0 4 6 7\n",
      " 2 2 0 1 6 8 0 1 3 9 9 5 6 2 7 4 4 4 2 3 7 9 1 9 9 7 9 5 1 0 2 8 9 8 2 6 8\n",
      " 3 8 1 4 6 1 6 9 8 0 0 2 1 6 9 8 0 7 5 0 1 7 8 4 7 1 9 2 3 5 1 7 0 5 7 8 2\n",
      " 5 1 2 7 8 3 2 9 3 1 4 0 6 8 9 5 2 6 0 7 9 6 1 7 3 6 1 0 4 0 8 9 6 8 1 5 4\n",
      " 5 9 8 5 9 3 4 8 1 8 6 9 6 7 7 2 3 8 3 5 1 4 6 1 7 7 0 4 1 2 1 8 1 2 1 2 1\n",
      " 9 7 6 1 2 1 3 7 3 0 7 4 8 3 7 4 9 6 9 8 2 5 8 0 9 7 1 5 7 9 0 9 5 0 4 6 3\n",
      " 1 9 8 6 3 7 1 2 1 4 0 4 6 6 4 2 5 3 6 1 9 9 3 7 6 3 1 0 1 0 3 3 7 8 2 0 1\n",
      " 8 9 8 0 6 0 8 2 6 3 4 3 8 0 7 1 2 1 7 3 6 2 2 9 9 6 6 7 7 7 9 9 1 0 7 6 7\n",
      " 0 1 0 7 6 7 2 8 7 3 9 7 0 0 6 9 7 2 7 8 1 6 0 3 6 8 0 2 4 0 6 6 0 0 3 3 3\n",
      " 0 2 8 5 0 0 0 9 6 1 6 9 0 6 9 0 0 7 2 6 0 7 7 4 3 1 6 0 6 7 9 7 9 2 9 9 0\n",
      " 2 9 0 8 0 8 6 5 6 9 2 7 6 1 7 9 9 5 9 8 6 1 9 4 5 6 3 0 3 1 4 0 7 3 6 1 1\n",
      " 6 3 9 0 5 6 5 2 8 6 1 0 3 2 6 9 9 4 9 7 7 3 5 7 7 9 7 5 3 9 0 1 2 8 3 8 8\n",
      " 3 4 1 9 8 8 5 6 2 7 7 9 2 7 1 6 1 6 6 4 9 7 8 7 7 9 2 5 4 1 3 0 5 4 1 8 0\n",
      " 6 1 5 9 0 0 1 6 7 0 1 2 1 0 1 8 1 6 1 2 4 8 0 5 5 1 4 7 3 1 3 4 1 3 4 8 3\n",
      " 1] [5 3 9 9 3 1 0 1 3 6 7 3 1 1 9 0 6 3 6 6 0 9 9 8 5 8 6 2 6 5 9 8 9 0 7 7 3\n",
      " 8 0 0 7 0 2 2 5 1 6 3 2 0 8 7 0 3 5 8 8 2 2 8 9 7 8 0 4 6 4 9 4 9 1 7 1 2\n",
      " 4 3 9 6 7 9 3 5 0 5 9 3 1 2 0 2 8 5 9 6 5 4 7 6 2 4 8 4 0 0 1 0 0 4 4 5 2\n",
      " 0 4 6 2 1 9 5 7 8 6 7 1 4 7 5 3 2 5 2 0 3 1 6 0 6 5 3 6 5 2 0 6 4 2 8 5 1\n",
      " 7 4 3 2 2 8 5 6 9 1 5 1 2 4 7 5 3 9 6 7 4 8 1 7 3 8 4 1 0 0 6 4 0 8 6 6 3\n",
      " 5 5 9 9 1 1 3 4 6 9 7 4 2 9 3 2 4 8 8 9 3 9 9 1 9 4 5 5 9 2 4 9 5 2 1 2 4\n",
      " 3 6 3 9 9 6 8 0 2 1 5 0 7 5 7 0 2 5 9 4 2 4 4 2 8 6 6 3 1 6 7 9 4 8 9 0 2\n",
      " 9 8 5 9 3 5 9 4 2 7 3 1 7 9 6 5 7 3 1 3 1 9 6 0 1 9 2 4 4 4 4 1 9 2 7 4 3\n",
      " 6 5 7 7 7 1 9 1 5 2 2 7 2 3 2 6 2 4 5 6 8 6 7 5 9 6 7 6 0 3 7 1 5 0 4 2 1\n",
      " 1 4 1 6 0 6 3 8 1 3 4 4 7 4 4 3 1 3 5 3 5 4 1 7 5 0 3 2 0 9 3 4 0 7 0 6 6\n",
      " 1 6 0 0 5 8 9 9 9 1 2 0 4 6 9 6 9 0 7 7 2 4 4 1 5 4 0 5 0 4 2 9 7 0 2 1 2\n",
      " 8 8 7 3 3 4 3 9 2 3 2 5 6 7 0 3 1 4 6 3 5 2 3 0 4 2 0 2 1 6 7 6 5 7 1 9 3\n",
      " 9 8 5 8 9 1 6 6 3 4 1 3 0 6 8 1 8 9 6 2 0 9 1 9 7 2 2 6 9 5 8 3 3 1 7 2 7\n",
      " 4 0 1 0 8 1 7 8 0 9 9 7 3 3 2 2 8 6 9 2 3 9 4 7 0 9 1 2 5 7 3 0 7 0 4 6 7\n",
      " 2 2 0 1 2 8 0 1 3 9 7 5 6 2 7 4 4 4 2 8 4 4 1 9 9 7 9 5 1 0 2 8 9 8 2 2 8\n",
      " 3 5 1 4 6 1 4 9 8 0 0 2 1 6 9 8 0 7 5 0 2 7 8 4 7 1 9 2 3 5 1 7 0 5 7 8 2\n",
      " 5 1 2 9 8 3 2 7 3 1 4 0 6 8 9 3 2 0 0 7 9 6 1 9 3 6 1 0 4 0 8 4 6 8 1 5 4\n",
      " 5 9 8 8 9 3 1 8 3 8 6 9 4 9 7 6 3 8 3 5 1 2 6 1 7 2 0 4 1 2 1 8 1 8 1 3 1\n",
      " 9 7 6 1 2 1 2 7 3 0 7 9 0 3 7 4 9 6 9 8 3 5 8 0 4 7 1 5 7 7 0 9 5 0 4 6 2\n",
      " 1 9 8 6 3 7 8 7 1 4 0 4 6 6 4 7 6 3 6 1 5 9 3 7 3 3 1 0 1 0 3 3 7 8 2 0 7\n",
      " 8 9 8 5 6 0 8 2 6 3 4 3 5 0 7 1 2 1 7 3 6 2 4 9 9 6 6 7 7 7 9 9 1 8 7 6 7\n",
      " 0 8 0 7 5 0 2 8 7 3 9 7 0 0 6 9 7 2 7 8 1 6 0 3 6 8 0 2 4 0 6 6 0 0 3 3 3\n",
      " 0 2 8 5 0 0 0 9 6 1 6 9 0 6 8 0 0 2 2 6 0 7 7 4 3 1 6 0 6 7 9 7 9 2 9 9 0\n",
      " 2 9 0 8 0 8 3 5 6 9 2 7 6 1 7 9 9 5 2 8 6 1 9 4 3 6 3 0 3 2 4 0 7 3 5 1 1\n",
      " 6 3 9 5 5 6 3 2 8 6 1 0 3 2 6 5 4 4 9 7 7 3 5 7 7 9 7 5 3 9 0 1 2 8 8 8 8\n",
      " 3 4 1 9 8 5 3 6 2 7 7 4 2 7 1 6 8 6 6 4 9 2 8 7 7 9 3 5 4 1 5 5 5 4 1 8 0\n",
      " 6 1 5 9 0 0 1 5 7 0 1 2 1 0 7 8 1 2 1 2 4 1 0 5 5 1 4 7 3 1 3 4 1 3 4 8 2\n",
      " 1]\n"
     ]
    },
    {
     "data": {
      "text/plain": [
       "0.849"
      ]
     },
     "execution_count": 9,
     "metadata": {},
     "output_type": "execute_result"
    }
   ],
   "source": [
    "dev_predictions = make_predictions(X_dev, W1, b1, W2, b2)\n",
    "get_accuracy(dev_predictions, Y_dev)"
   ]
  },
  {
   "cell_type": "code",
   "execution_count": 10,
   "metadata": {},
   "outputs": [
    {
     "name": "stdout",
     "output_type": "stream",
     "text": [
      "Prediction:  [2]\n",
      "Label:  2\n"
     ]
    },
    {
     "data": {
      "image/png": "[encoded data removed]",
      "text/plain": [
       "<Figure size 640x480 with 1 Axes>"
      ]
     },
     "metadata": {},
     "output_type": "display_data"
    }
   ],
   "source": [
    "test_prediction(7, W1, b1, W2, b2)"
   ]
  },
  {
   "cell_type": "code",
   "execution_count": 11,
   "metadata": {},
   "outputs": [
    {
     "name": "stdout",
     "output_type": "stream",
     "text": [
      "Prediction:  [5]\n",
      "Label:  0\n"
     ]
    },
    {
     "data": {
      "image/png": "[encoded data removed]",
      "text/plain": [
       "<Figure size 640x480 with 1 Axes>"
      ]
     },
     "metadata": {},
     "output_type": "display_data"
    }
   ],
   "source": [
    "test_prediction(9, W1, b1, W2, b2)"
   ]
  },
  {
   "cell_type": "code",
   "execution_count": 12,
   "metadata": {},
   "outputs": [
    {
     "name": "stdout",
     "output_type": "stream",
     "text": [
      "Prediction:  [0]\n",
      "Label:  0\n"
     ]
    },
    {
     "data": {
      "image/png": "[encoded data removed]",
      "text/plain": [
       "<Figure size 640x480 with 1 Axes>"
      ]
     },
     "metadata": {},
     "output_type": "display_data"
    }
   ],
   "source": [
    "test_prediction(2, W1, b1, W2, b2)"
   ]
  },
  {
   "cell_type": "code",
   "execution_count": null,
   "metadata": {},
   "outputs": [],
   "source": []
  }
 ],
 "metadata": {
  "kaggle": {
   "accelerator": "none",
   "dataSources": [
    {
     "databundleVersionId": 861823,
     "sourceId": 3004,
     "sourceType": "competition"
    }
   ],
   "dockerImageVersionId": 30732,
   "isGpuEnabled": false,
   "isInternetEnabled": false,
   "language": "python",
   "sourceType": "notebook"
  },
  "kernelspec": {
   "display_name": "Python 3 (ipykernel)",
   "language": "python",
   "name": "python3"
  },
  "language_info": {
   "codemirror_mode": {
    "name": "ipython",
    "version": 3
   },
   "file_extension": ".py",
   "mimetype": "text/x-python",
   "name": "python",
   "nbconvert_exporter": "python",
   "pygments_lexer": "ipython3",
   "version": "3.12.4"
  }
 },
 "nbformat": 4,
 "nbformat_minor": 4
}
